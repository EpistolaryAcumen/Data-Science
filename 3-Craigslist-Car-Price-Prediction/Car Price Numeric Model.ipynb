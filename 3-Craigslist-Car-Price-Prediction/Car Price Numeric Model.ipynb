{
 "cells": [
  {
   "cell_type": "markdown",
   "metadata": {},
   "source": [
    "# Craigslist Car Price Prediction\n",
    "\n",
    "**Epistolary Acumen**\n",
    "\n",
    "In this notebook we will build a model that predicts car price using numeric and categorical features, as well as some minor text ones. The dataset, put together by Austin Reese (https://www.kaggle.com/austinreese/craigslist-carstrucks-data), consists of cars posted on craigslist that were for sale in the United States.\n",
    "\n",
    "**Road Map**\n",
    "-  Data Cleaning\n",
    "-  Feature Engineering\n",
    "-  Model"
   ]
  },
  {
   "cell_type": "code",
   "execution_count": 1,
   "metadata": {},
   "outputs": [],
   "source": [
    "#Import libraries and read in dataset\n",
    "\n",
    "import pandas as pd\n",
    "import matplotlib.pyplot as plt\n",
    "import seaborn as sns\n",
    "import numpy as np\n",
    "%matplotlib inline\n",
    "\n",
    "df = pd.read_csv('craigslistVehicles.csv')"
   ]
  },
  {
   "cell_type": "code",
   "execution_count": 2,
   "metadata": {},
   "outputs": [
    {
     "data": {
      "text/plain": [
       "(443405, 22)"
      ]
     },
     "execution_count": 2,
     "metadata": {},
     "output_type": "execute_result"
    }
   ],
   "source": [
    "df.shape"
   ]
  },
  {
   "cell_type": "code",
   "execution_count": 3,
   "metadata": {},
   "outputs": [
    {
     "data": {
      "text/plain": [
       "url             https://albuquerque.craigslist.org/cto/d/albuq...\n",
       "city                                                  albuquerque\n",
       "city_url                       https://albuquerque.craigslist.org\n",
       "price                                                        1500\n",
       "year                                                         2005\n",
       "manufacturer                                              hyundai\n",
       "make                                                      elantra\n",
       "condition                                                    good\n",
       "cylinders                                             4 cylinders\n",
       "fuel                                                          gas\n",
       "odometer                                                   256000\n",
       "title_status                                                clean\n",
       "transmission                                            automatic\n",
       "VIN                                                           NaN\n",
       "drive                                                         fwd\n",
       "size                                                     mid-size\n",
       "type                                                        sedan\n",
       "paint_color                                                  blue\n",
       "image_url       https://images.craigslist.org/00C0C_jxcguIkSFN...\n",
       "desc            Selling a 2005 Hyundai Elantra 2.0 4 cylinder....\n",
       "lat                                                       35.1561\n",
       "long                                                     -106.657\n",
       "Name: 0, dtype: object"
      ]
     },
     "execution_count": 3,
     "metadata": {},
     "output_type": "execute_result"
    }
   ],
   "source": [
    "df.iloc[0]"
   ]
  },
  {
   "cell_type": "code",
   "execution_count": 4,
   "metadata": {},
   "outputs": [
    {
     "data": {
      "text/html": [
       "<div>\n",
       "<style scoped>\n",
       "    .dataframe tbody tr th:only-of-type {\n",
       "        vertical-align: middle;\n",
       "    }\n",
       "\n",
       "    .dataframe tbody tr th {\n",
       "        vertical-align: top;\n",
       "    }\n",
       "\n",
       "    .dataframe thead th {\n",
       "        text-align: right;\n",
       "    }\n",
       "</style>\n",
       "<table border=\"1\" class=\"dataframe\">\n",
       "  <thead>\n",
       "    <tr style=\"text-align: right;\">\n",
       "      <th></th>\n",
       "      <th>price</th>\n",
       "      <th>year</th>\n",
       "      <th>odometer</th>\n",
       "      <th>lat</th>\n",
       "      <th>long</th>\n",
       "    </tr>\n",
       "  </thead>\n",
       "  <tbody>\n",
       "    <tr>\n",
       "      <th>count</th>\n",
       "      <td>4.434050e+05</td>\n",
       "      <td>442625.000000</td>\n",
       "      <td>3.506140e+05</td>\n",
       "      <td>442580.000000</td>\n",
       "      <td>442580.000000</td>\n",
       "    </tr>\n",
       "    <tr>\n",
       "      <th>mean</th>\n",
       "      <td>1.341564e+05</td>\n",
       "      <td>2008.227000</td>\n",
       "      <td>1.032847e+05</td>\n",
       "      <td>38.314511</td>\n",
       "      <td>-93.749928</td>\n",
       "    </tr>\n",
       "    <tr>\n",
       "      <th>std</th>\n",
       "      <td>1.856712e+07</td>\n",
       "      <td>9.903604</td>\n",
       "      <td>1.233734e+05</td>\n",
       "      <td>5.841092</td>\n",
       "      <td>17.419178</td>\n",
       "    </tr>\n",
       "    <tr>\n",
       "      <th>min</th>\n",
       "      <td>0.000000e+00</td>\n",
       "      <td>1900.000000</td>\n",
       "      <td>0.000000e+00</td>\n",
       "      <td>-75.930065</td>\n",
       "      <td>-159.719900</td>\n",
       "    </tr>\n",
       "    <tr>\n",
       "      <th>25%</th>\n",
       "      <td>3.795000e+03</td>\n",
       "      <td>2005.000000</td>\n",
       "      <td>4.880825e+04</td>\n",
       "      <td>34.575600</td>\n",
       "      <td>-105.085420</td>\n",
       "    </tr>\n",
       "    <tr>\n",
       "      <th>50%</th>\n",
       "      <td>8.948000e+03</td>\n",
       "      <td>2010.000000</td>\n",
       "      <td>9.600000e+04</td>\n",
       "      <td>39.018700</td>\n",
       "      <td>-88.167289</td>\n",
       "    </tr>\n",
       "    <tr>\n",
       "      <th>75%</th>\n",
       "      <td>1.699100e+04</td>\n",
       "      <td>2014.000000</td>\n",
       "      <td>1.409090e+05</td>\n",
       "      <td>42.175851</td>\n",
       "      <td>-80.723560</td>\n",
       "    </tr>\n",
       "    <tr>\n",
       "      <th>max</th>\n",
       "      <td>4.173654e+09</td>\n",
       "      <td>2020.000000</td>\n",
       "      <td>1.000000e+07</td>\n",
       "      <td>81.660473</td>\n",
       "      <td>164.397354</td>\n",
       "    </tr>\n",
       "  </tbody>\n",
       "</table>\n",
       "</div>"
      ],
      "text/plain": [
       "              price           year      odometer            lat           long\n",
       "count  4.434050e+05  442625.000000  3.506140e+05  442580.000000  442580.000000\n",
       "mean   1.341564e+05    2008.227000  1.032847e+05      38.314511     -93.749928\n",
       "std    1.856712e+07       9.903604  1.233734e+05       5.841092      17.419178\n",
       "min    0.000000e+00    1900.000000  0.000000e+00     -75.930065    -159.719900\n",
       "25%    3.795000e+03    2005.000000  4.880825e+04      34.575600    -105.085420\n",
       "50%    8.948000e+03    2010.000000  9.600000e+04      39.018700     -88.167289\n",
       "75%    1.699100e+04    2014.000000  1.409090e+05      42.175851     -80.723560\n",
       "max    4.173654e+09    2020.000000  1.000000e+07      81.660473     164.397354"
      ]
     },
     "execution_count": 4,
     "metadata": {},
     "output_type": "execute_result"
    }
   ],
   "source": [
    "df.describe()"
   ]
  },
  {
   "cell_type": "markdown",
   "metadata": {},
   "source": [
    "**Observations**\n",
    "\n",
    "Notice some oddities in the price field. We have extreme values that will harm our model as well as values of 0 that do not make sense."
   ]
  },
  {
   "cell_type": "code",
   "execution_count": 5,
   "metadata": {},
   "outputs": [
    {
     "data": {
      "text/plain": [
       "4173653755     1\n",
       "3700093123     1\n",
       "2983521604    12\n",
       "2860372403     1\n",
       "1234567890     1\n",
       "Name: price, dtype: int64"
      ]
     },
     "execution_count": 5,
     "metadata": {},
     "output_type": "execute_result"
    }
   ],
   "source": [
    "df['price'].value_counts().sort_index(ascending=False).head(5)"
   ]
  },
  {
   "cell_type": "markdown",
   "metadata": {},
   "source": [
    "**Data Cleaning**\n",
    "\n",
    "Let's start by nuking these outliers."
   ]
  },
  {
   "cell_type": "code",
   "execution_count": 6,
   "metadata": {},
   "outputs": [
    {
     "name": "stdout",
     "output_type": "stream",
     "text": [
      "33950.0\n",
      "49998.0\n",
      "98000.0\n",
      "135000.0\n"
     ]
    }
   ],
   "source": [
    "print(df.price.quantile(.95))\n",
    "print(df.price.quantile(.99))\n",
    "print(df.price.quantile(.999))\n",
    "print(df.price.quantile(.9995))"
   ]
  },
  {
   "cell_type": "code",
   "execution_count": 7,
   "metadata": {},
   "outputs": [],
   "source": [
    "df = df[df.price >1000] #nuke the cars with price <1000 (arbitrary)\n",
    "df = df[df.price < 200000] # 200,000 is a reasonable cap"
   ]
  },
  {
   "cell_type": "code",
   "execution_count": 8,
   "metadata": {},
   "outputs": [
    {
     "data": {
      "text/plain": [
       "(388384, 22)"
      ]
     },
     "execution_count": 8,
     "metadata": {},
     "output_type": "execute_result"
    }
   ],
   "source": [
    "df.shape"
   ]
  },
  {
   "cell_type": "markdown",
   "metadata": {},
   "source": [
    "**Drop columns not needed for machine learning.**"
   ]
  },
  {
   "cell_type": "code",
   "execution_count": 9,
   "metadata": {},
   "outputs": [],
   "source": [
    "df.drop(['url', 'city', 'city_url','VIN','image_url', 'lat', 'long'],axis=1,inplace=True)"
   ]
  },
  {
   "cell_type": "markdown",
   "metadata": {},
   "source": [
    "**For non numerical columns, let's drop ones that are not feasible to use as dummy variables.**"
   ]
  },
  {
   "cell_type": "code",
   "execution_count": 10,
   "metadata": {},
   "outputs": [
    {
     "name": "stderr",
     "output_type": "stream",
     "text": [
      "/anaconda3/lib/python3.6/site-packages/pandas/core/frame.py:3697: SettingWithCopyWarning: \n",
      "A value is trying to be set on a copy of a slice from a DataFrame\n",
      "\n",
      "See the caveats in the documentation: http://pandas.pydata.org/pandas-docs/stable/indexing.html#indexing-view-versus-copy\n",
      "  errors=errors)\n"
     ]
    },
    {
     "data": {
      "text/plain": [
       "transmission        3\n",
       "drive               3\n",
       "size                4\n",
       "fuel                5\n",
       "condition           6\n",
       "title_status        6\n",
       "cylinders           8\n",
       "paint_color        12\n",
       "type               13\n",
       "manufacturer       42\n",
       "make            39264\n",
       "dtype: int64"
      ]
     },
     "execution_count": 10,
     "metadata": {},
     "output_type": "execute_result"
    }
   ],
   "source": [
    "cat_col = df.select_dtypes(include=['object'])\n",
    "cat_col.drop('desc',inplace=True,axis=1) #we will not dummy the description field\n",
    "uniqueness_counts = cat_col.apply(lambda col: len(col.value_counts())).sort_values()\n",
    "uniqueness_counts"
   ]
  },
  {
   "cell_type": "markdown",
   "metadata": {},
   "source": [
    "**We'll do our cutoff at <14 categories.**"
   ]
  },
  {
   "cell_type": "code",
   "execution_count": 11,
   "metadata": {},
   "outputs": [],
   "source": [
    "df.drop(['manufacturer','make'],axis=1,inplace=True)"
   ]
  },
  {
   "cell_type": "markdown",
   "metadata": {},
   "source": [
    "**Now lets look at missing data.**"
   ]
  },
  {
   "cell_type": "code",
   "execution_count": 12,
   "metadata": {},
   "outputs": [
    {
     "data": {
      "text/html": [
       "<div>\n",
       "<style scoped>\n",
       "    .dataframe tbody tr th:only-of-type {\n",
       "        vertical-align: middle;\n",
       "    }\n",
       "\n",
       "    .dataframe tbody tr th {\n",
       "        vertical-align: top;\n",
       "    }\n",
       "\n",
       "    .dataframe thead th {\n",
       "        text-align: right;\n",
       "    }\n",
       "</style>\n",
       "<table border=\"1\" class=\"dataframe\">\n",
       "  <thead>\n",
       "    <tr style=\"text-align: right;\">\n",
       "      <th></th>\n",
       "      <th>Column</th>\n",
       "      <th>Percent</th>\n",
       "    </tr>\n",
       "  </thead>\n",
       "  <tbody>\n",
       "    <tr>\n",
       "      <th>0</th>\n",
       "      <td>price</td>\n",
       "      <td>1.000000</td>\n",
       "    </tr>\n",
       "    <tr>\n",
       "      <th>12</th>\n",
       "      <td>desc</td>\n",
       "      <td>0.999972</td>\n",
       "    </tr>\n",
       "    <tr>\n",
       "      <th>1</th>\n",
       "      <td>year</td>\n",
       "      <td>0.998048</td>\n",
       "    </tr>\n",
       "    <tr>\n",
       "      <th>6</th>\n",
       "      <td>title_status</td>\n",
       "      <td>0.995033</td>\n",
       "    </tr>\n",
       "    <tr>\n",
       "      <th>7</th>\n",
       "      <td>transmission</td>\n",
       "      <td>0.992940</td>\n",
       "    </tr>\n",
       "    <tr>\n",
       "      <th>4</th>\n",
       "      <td>fuel</td>\n",
       "      <td>0.990893</td>\n",
       "    </tr>\n",
       "    <tr>\n",
       "      <th>5</th>\n",
       "      <td>odometer</td>\n",
       "      <td>0.801627</td>\n",
       "    </tr>\n",
       "    <tr>\n",
       "      <th>8</th>\n",
       "      <td>drive</td>\n",
       "      <td>0.705696</td>\n",
       "    </tr>\n",
       "    <tr>\n",
       "      <th>10</th>\n",
       "      <td>type</td>\n",
       "      <td>0.705577</td>\n",
       "    </tr>\n",
       "    <tr>\n",
       "      <th>11</th>\n",
       "      <td>paint_color</td>\n",
       "      <td>0.680061</td>\n",
       "    </tr>\n",
       "    <tr>\n",
       "      <th>3</th>\n",
       "      <td>cylinders</td>\n",
       "      <td>0.614799</td>\n",
       "    </tr>\n",
       "    <tr>\n",
       "      <th>2</th>\n",
       "      <td>condition</td>\n",
       "      <td>0.569709</td>\n",
       "    </tr>\n",
       "    <tr>\n",
       "      <th>9</th>\n",
       "      <td>size</td>\n",
       "      <td>0.347579</td>\n",
       "    </tr>\n",
       "  </tbody>\n",
       "</table>\n",
       "</div>"
      ],
      "text/plain": [
       "          Column   Percent\n",
       "0          price  1.000000\n",
       "12          desc  0.999972\n",
       "1           year  0.998048\n",
       "6   title_status  0.995033\n",
       "7   transmission  0.992940\n",
       "4           fuel  0.990893\n",
       "5       odometer  0.801627\n",
       "8          drive  0.705696\n",
       "10          type  0.705577\n",
       "11   paint_color  0.680061\n",
       "3      cylinders  0.614799\n",
       "2      condition  0.569709\n",
       "9           size  0.347579"
      ]
     },
     "execution_count": 12,
     "metadata": {},
     "output_type": "execute_result"
    }
   ],
   "source": [
    "l = []\n",
    "\n",
    "for column in df:\n",
    "    pct = (df[column].count())/len(df[column])\n",
    "    l.append(pct)\n",
    "dict = {'Column': df.columns.tolist(), 'Percent': l}  \n",
    "fill_pct = pd.DataFrame(dict)\n",
    "fill_pct.sort_values(by=['Percent'],ascending=False)"
   ]
  },
  {
   "cell_type": "markdown",
   "metadata": {},
   "source": [
    "**I hazard that condition is important so we will set a cutoff that enables keeping it.**"
   ]
  },
  {
   "cell_type": "code",
   "execution_count": 13,
   "metadata": {},
   "outputs": [],
   "source": [
    "df.drop('size',axis=1,inplace=True)"
   ]
  },
  {
   "cell_type": "code",
   "execution_count": 14,
   "metadata": {},
   "outputs": [
    {
     "name": "stdout",
     "output_type": "stream",
     "text": [
      "(388384, 12)\n",
      "(116513, 12)\n"
     ]
    }
   ],
   "source": [
    "print(df.shape)\n",
    "print(df.dropna().shape)"
   ]
  },
  {
   "cell_type": "markdown",
   "metadata": {},
   "source": [
    "**Quite the data loss. Do we gain much by imputing values on the fields we _can_ impute?**"
   ]
  },
  {
   "cell_type": "code",
   "execution_count": 15,
   "metadata": {},
   "outputs": [
    {
     "data": {
      "text/plain": [
       "(132838, 12)"
      ]
     },
     "execution_count": 15,
     "metadata": {},
     "output_type": "execute_result"
    }
   ],
   "source": [
    "x = df.copy()\n",
    "\n",
    "x['odometer'].fillna((x['odometer'].mean()), inplace=True)\n",
    "x.dropna().shape"
   ]
  },
  {
   "cell_type": "markdown",
   "metadata": {},
   "source": [
    "**Let's settle for 132k observations for now.**"
   ]
  },
  {
   "cell_type": "code",
   "execution_count": 16,
   "metadata": {},
   "outputs": [],
   "source": [
    "df['odometer'].fillna((df['odometer'].mean()), inplace=True)"
   ]
  },
  {
   "cell_type": "code",
   "execution_count": 17,
   "metadata": {},
   "outputs": [],
   "source": [
    "df.dropna(inplace=True)"
   ]
  },
  {
   "cell_type": "code",
   "execution_count": 18,
   "metadata": {},
   "outputs": [
    {
     "name": "stdout",
     "output_type": "stream",
     "text": [
      "<class 'pandas.core.frame.DataFrame'>\n",
      "Int64Index: 132838 entries, 0 to 443402\n",
      "Data columns (total 12 columns):\n",
      "price           132838 non-null int64\n",
      "year            132838 non-null float64\n",
      "condition       132838 non-null object\n",
      "cylinders       132838 non-null object\n",
      "fuel            132838 non-null object\n",
      "odometer        132838 non-null float64\n",
      "title_status    132838 non-null object\n",
      "transmission    132838 non-null object\n",
      "drive           132838 non-null object\n",
      "type            132838 non-null object\n",
      "paint_color     132838 non-null object\n",
      "desc            132838 non-null object\n",
      "dtypes: float64(2), int64(1), object(9)\n",
      "memory usage: 13.2+ MB\n"
     ]
    }
   ],
   "source": [
    "df.info()"
   ]
  },
  {
   "cell_type": "markdown",
   "metadata": {},
   "source": [
    "**Make dummy variables out of these objects.**"
   ]
  },
  {
   "cell_type": "code",
   "execution_count": 19,
   "metadata": {},
   "outputs": [],
   "source": [
    "text_cols = df.select_dtypes(include=['object']).columns\n",
    "text_cols.tolist()\n",
    "t = text_cols.drop('desc') #Do NOT dummy the description column\n",
    "dummy_cols = pd.DataFrame()\n",
    "for col in t:\n",
    "    col_dummies = pd.get_dummies(df[col])\n",
    "    df = pd.concat([df, col_dummies], axis=1)\n",
    "    del df[col]"
   ]
  },
  {
   "cell_type": "markdown",
   "metadata": {},
   "source": [
    "**Description Features**\n",
    "\n",
    "Lastly, let us add in a few features taken from the description column that one might expect correlate with price. Some that come to mind are 'new', 'used', 'needs', 'good' and 'great'. \n",
    "\n",
    "These are very arbitrary but they just might help our model."
   ]
  },
  {
   "cell_type": "code",
   "execution_count": 23,
   "metadata": {},
   "outputs": [],
   "source": [
    "def d_word(word,df):\n",
    "    word_list=[]    \n",
    "    for row in df['desc']: \n",
    "        if word in row:\n",
    "            word_list.append(1)\n",
    "        else:\n",
    "            word_list.append(0)\n",
    "    df[word] = word_list"
   ]
  },
  {
   "cell_type": "code",
   "execution_count": 25,
   "metadata": {},
   "outputs": [],
   "source": [
    "d_word('new',df)\n",
    "d_word('used',df)\n",
    "d_word('needs',df)\n",
    "d_word('good',df)\n",
    "d_word('great',df)"
   ]
  },
  {
   "cell_type": "code",
   "execution_count": 26,
   "metadata": {},
   "outputs": [
    {
     "data": {
      "text/html": [
       "<div>\n",
       "<style scoped>\n",
       "    .dataframe tbody tr th:only-of-type {\n",
       "        vertical-align: middle;\n",
       "    }\n",
       "\n",
       "    .dataframe tbody tr th {\n",
       "        vertical-align: top;\n",
       "    }\n",
       "\n",
       "    .dataframe thead th {\n",
       "        text-align: right;\n",
       "    }\n",
       "</style>\n",
       "<table border=\"1\" class=\"dataframe\">\n",
       "  <thead>\n",
       "    <tr style=\"text-align: right;\">\n",
       "      <th></th>\n",
       "      <th>price</th>\n",
       "      <th>year</th>\n",
       "      <th>odometer</th>\n",
       "      <th>desc</th>\n",
       "      <th>excellent</th>\n",
       "      <th>fair</th>\n",
       "      <th>good</th>\n",
       "      <th>like new</th>\n",
       "      <th>new</th>\n",
       "      <th>salvage</th>\n",
       "      <th>...</th>\n",
       "      <th>grey</th>\n",
       "      <th>orange</th>\n",
       "      <th>purple</th>\n",
       "      <th>red</th>\n",
       "      <th>silver</th>\n",
       "      <th>white</th>\n",
       "      <th>yellow</th>\n",
       "      <th>used</th>\n",
       "      <th>needs</th>\n",
       "      <th>great</th>\n",
       "    </tr>\n",
       "  </thead>\n",
       "  <tbody>\n",
       "    <tr>\n",
       "      <th>0</th>\n",
       "      <td>1500</td>\n",
       "      <td>2005.0</td>\n",
       "      <td>256000.0</td>\n",
       "      <td>Selling a 2005 Hyundai Elantra 2.0 4 cylinder....</td>\n",
       "      <td>0</td>\n",
       "      <td>0</td>\n",
       "      <td>0</td>\n",
       "      <td>0</td>\n",
       "      <td>0</td>\n",
       "      <td>0</td>\n",
       "      <td>...</td>\n",
       "      <td>0</td>\n",
       "      <td>0</td>\n",
       "      <td>0</td>\n",
       "      <td>0</td>\n",
       "      <td>0</td>\n",
       "      <td>0</td>\n",
       "      <td>0</td>\n",
       "      <td>0</td>\n",
       "      <td>0</td>\n",
       "      <td>0</td>\n",
       "    </tr>\n",
       "  </tbody>\n",
       "</table>\n",
       "<p>1 rows × 63 columns</p>\n",
       "</div>"
      ],
      "text/plain": [
       "   price    year  odometer                                               desc  \\\n",
       "0   1500  2005.0  256000.0  Selling a 2005 Hyundai Elantra 2.0 4 cylinder....   \n",
       "\n",
       "   excellent  fair  good  like new  new  salvage  ...    grey  orange  purple  \\\n",
       "0          0     0     0         0    0        0  ...       0       0       0   \n",
       "\n",
       "   red  silver  white  yellow  used  needs  great  \n",
       "0    0       0      0       0     0      0      0  \n",
       "\n",
       "[1 rows x 63 columns]"
      ]
     },
     "execution_count": 26,
     "metadata": {},
     "output_type": "execute_result"
    }
   ],
   "source": [
    "df.head(1)"
   ]
  },
  {
   "cell_type": "markdown",
   "metadata": {},
   "source": [
    "**Linear Regression**"
   ]
  },
  {
   "cell_type": "code",
   "execution_count": 27,
   "metadata": {},
   "outputs": [],
   "source": [
    "from sklearn.model_selection import train_test_split"
   ]
  },
  {
   "cell_type": "code",
   "execution_count": 40,
   "metadata": {},
   "outputs": [],
   "source": [
    "X=df.drop(['price','desc'],axis=1)\n",
    "y=df['price']\n",
    "\n",
    "X_train, X_test, Y_train, Y_test = train_test_split(X, y, test_size=0.3, random_state=101)"
   ]
  },
  {
   "cell_type": "code",
   "execution_count": 41,
   "metadata": {},
   "outputs": [
    {
     "data": {
      "text/plain": [
       "Text(0.5, 1.0, 'Residual vs Predicted')"
      ]
     },
     "execution_count": 41,
     "metadata": {},
     "output_type": "execute_result"
    },
    {
     "data": {
      "image/png": "[encoded data removed]",
      "text/plain": [
       "<Figure size 432x288 with 1 Axes>"
      ]
     },
     "metadata": {
      "needs_background": "light"
     },
     "output_type": "display_data"
    }
   ],
   "source": [
    "from sklearn import linear_model\n",
    "\n",
    "lm = linear_model.LinearRegression()\n",
    "lm.fit(X_train, Y_train)\n",
    "\n",
    "predicted = lm.predict(X_test)\n",
    "residual = Y_test - predicted\n",
    "\n",
    "plt.scatter(predicted, residual,s=5,alpha=.5)\n",
    "plt.xlabel('Predicted',fontsize=25)\n",
    "plt.ylabel('Residual',fontsize=25)\n",
    "plt.axhline(y=0)\n",
    "plt.title('Residual vs Predicted',fontsize=20)"
   ]
  },
  {
   "cell_type": "code",
   "execution_count": 42,
   "metadata": {
    "scrolled": true
   },
   "outputs": [
    {
     "name": "stdout",
     "output_type": "stream",
     "text": [
      "8476.452860164107\n",
      "0.36166729724993596\n"
     ]
    }
   ],
   "source": [
    "from sklearn.metrics import mean_squared_error\n",
    "from sklearn.metrics import r2_score\n",
    "\n",
    "rmse = np.sqrt(mean_squared_error(Y_test, predicted))\n",
    "\n",
    "print(rmse)\n",
    "print(r2_score(Y_test, predicted))"
   ]
  },
  {
   "cell_type": "markdown",
   "metadata": {},
   "source": [
    "**Graph Behavior**\n",
    "\n",
    "Notice how there is a pattern in the residual plot. This stems from the fact that there are many duplicated prices (13 instances of 1050 dollars, 184 instances of 1100...). We explore how this rounding skews the graph and how to correct it here (https://github.com/EpistolaryAcumen/Craigslist-Car-Price-Prediction/blob/master/Residual%20Plot%20Anomaly.ipynb) but becuase 'fixing' the issue results in massive data loss, we will proceed. "
   ]
  },
  {
   "cell_type": "markdown",
   "metadata": {},
   "source": [
    "**KNN**"
   ]
  },
  {
   "cell_type": "code",
   "execution_count": 43,
   "metadata": {},
   "outputs": [
    {
     "data": {
      "text/plain": [
       "Text(0.5, 1.0, 'Residual vs Predicted')"
      ]
     },
     "execution_count": 43,
     "metadata": {},
     "output_type": "execute_result"
    },
    {
     "data": {
      "image/png": "[encoded data removed]",
      "text/plain": [
       "<Figure size 432x288 with 1 Axes>"
      ]
     },
     "metadata": {
      "needs_background": "light"
     },
     "output_type": "display_data"
    }
   ],
   "source": [
    "from sklearn import neighbors\n",
    "\n",
    "knn = neighbors.KNeighborsRegressor(n_neighbors=5)\n",
    "knn.fit(X_train, Y_train)\n",
    "\n",
    "predicted = knn.predict(X_test)\n",
    "residual = Y_test - predicted\n",
    "\n",
    "plt.scatter(predicted, residual,s=5,alpha=.5)\n",
    "plt.xlabel('Predicted',fontsize=25)\n",
    "plt.ylabel('Residual',fontsize=25)\n",
    "plt.axhline(y=0)\n",
    "plt.title('Residual vs Predicted',fontsize=20)"
   ]
  },
  {
   "cell_type": "code",
   "execution_count": 44,
   "metadata": {},
   "outputs": [
    {
     "name": "stdout",
     "output_type": "stream",
     "text": [
      "7904.16164135107\n",
      "0.44495215806975774\n"
     ]
    }
   ],
   "source": [
    "rmse = np.sqrt(mean_squared_error(Y_test, predicted))\n",
    "\n",
    "print(rmse)\n",
    "print(r2_score(Y_test, predicted))"
   ]
  },
  {
   "cell_type": "markdown",
   "metadata": {},
   "source": [
    "**Decision Tree**"
   ]
  },
  {
   "cell_type": "code",
   "execution_count": 45,
   "metadata": {},
   "outputs": [
    {
     "data": {
      "text/plain": [
       "Text(0.5, 1.0, 'Residual vs Predicted')"
      ]
     },
     "execution_count": 45,
     "metadata": {},
     "output_type": "execute_result"
    },
    {
     "data": {
      "image/png": "[encoded data removed]",
      "text/plain": [
       "<Figure size 432x288 with 1 Axes>"
      ]
     },
     "metadata": {
      "needs_background": "light"
     },
     "output_type": "display_data"
    }
   ],
   "source": [
    "from sklearn.tree import DecisionTreeRegressor\n",
    "\n",
    "dtr = DecisionTreeRegressor(max_features='auto')\n",
    "dtr.fit(X_train, Y_train)\n",
    "\n",
    "predicted = dtr.predict(X_test)\n",
    "residual = Y_test - predicted\n",
    "\n",
    "plt.scatter(predicted, residual,s=5,alpha=.5)\n",
    "plt.xlabel('Predicted',fontsize=25)\n",
    "plt.ylabel('Residual',fontsize=25)\n",
    "plt.axhline(y=0)\n",
    "plt.title('Residual vs Predicted',fontsize=20)"
   ]
  },
  {
   "cell_type": "code",
   "execution_count": 46,
   "metadata": {},
   "outputs": [
    {
     "name": "stdout",
     "output_type": "stream",
     "text": [
      "6789.388290604631\n",
      "0.5904753136473535\n"
     ]
    }
   ],
   "source": [
    "rmse = np.sqrt(mean_squared_error(Y_test, predicted))\n",
    "\n",
    "print(rmse)\n",
    "print(r2_score(Y_test, predicted))"
   ]
  },
  {
   "cell_type": "markdown",
   "metadata": {},
   "source": [
    "# Conclusion\n",
    "\n",
    "Using a decision tree, we were able to obtain the lowest MSE of 6789 dollars and a variance score just under .6."
   ]
  }
 ],
 "metadata": {
  "kernelspec": {
   "display_name": "Python 3",
   "language": "python",
   "name": "python3"
  },
  "language_info": {
   "codemirror_mode": {
    "name": "ipython",
    "version": 3
   },
   "file_extension": ".py",
   "mimetype": "text/x-python",
   "name": "python",
   "nbconvert_exporter": "python",
   "pygments_lexer": "ipython3",
   "version": "3.6.8"
  }
 },
 "nbformat": 4,
 "nbformat_minor": 2
}
